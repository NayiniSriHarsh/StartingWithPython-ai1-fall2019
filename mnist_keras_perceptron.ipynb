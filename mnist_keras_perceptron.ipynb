{
  "nbformat": 4,
  "nbformat_minor": 0,
  "metadata": {
    "colab": {
      "name": "mnist-keras-perceptron.ipynb",
      "provenance": [],
      "collapsed_sections": [],
      "include_colab_link": true
    },
    "kernelspec": {
      "name": "python3",
      "display_name": "Python 3"
    },
    "accelerator": "GPU"
  },
  "cells": [
    {
      "cell_type": "markdown",
      "metadata": {
        "id": "view-in-github",
        "colab_type": "text"
      },
      "source": [
        "<a href=\"https://colab.research.google.com/github/NayiniSriHarsh/StartingWithPython-ai1-fall2019/blob/master/mnist_keras_perceptron.ipynb\" target=\"_parent\"><img src=\"https://colab.research.google.com/assets/colab-badge.svg\" alt=\"Open In Colab\"/></a>"
      ]
    },
    {
      "cell_type": "code",
      "metadata": {
        "id": "0rrbVKm5n6E3",
        "colab_type": "code",
        "colab": {}
      },
      "source": [
        "# taken from lukas/ml-class\n",
        "import numpy as np\n",
        "from keras.datasets import mnist\n",
        "from keras.models import Sequential\n",
        "from keras.layers import Dense, Flatten, Dropout\n",
        "from keras.utils import np_utils\n",
        "from keras.callbacks import Callback\n",
        "import json\n",
        "\n",
        "# from wandb.keras import WandbCallback\n",
        "# import wandb\n",
        "\n",
        "# run = wandb.init()\n",
        "# config = run.config\n",
        "\n",
        "\n",
        "\n",
        "\n"
      ],
      "execution_count": 0,
      "outputs": []
    },
    {
      "cell_type": "code",
      "metadata": {
        "id": "BiazlFKkUIkg",
        "colab_type": "code",
        "colab": {
          "base_uri": "https://localhost:8080/",
          "height": 35
        },
        "outputId": "8de6bbc9-2ddd-44ac-858f-18413f6052ce"
      },
      "source": [
        "1+1"
      ],
      "execution_count": 2,
      "outputs": [
        {
          "output_type": "execute_result",
          "data": {
            "text/plain": [
              "2"
            ]
          },
          "metadata": {
            "tags": []
          },
          "execution_count": 2
        }
      ]
    },
    {
      "cell_type": "markdown",
      "metadata": {
        "id": "OQLY1kpoUa6a",
        "colab_type": "text"
      },
      "source": [
        "### Hello World\n",
        "1. one\n",
        "2.two\n",
        "3.three\n",
        "\n",
        "hgdctvsd6wgcdudugefdfd7ubdyvcgcllytsgdb\n",
        "-hello\n",
        "-world\n",
        "-gunnu\n",
        "\n",
        "hello the $\\alpha$ is a greek letter.\n",
        "\n",
        "\n",
        "$$\\alpha + \\beta + \\gamma = \\delta$$\n"
      ]
    },
    {
      "cell_type": "code",
      "metadata": {
        "id": "qO2YdqUhYISX",
        "colab_type": "code",
        "colab": {
          "base_uri": "https://localhost:8080/",
          "height": 35
        },
        "outputId": "2381d0a0-5787-42dc-addf-b7e80c6ce65e"
      },
      "source": [
        "a = (1,2)\n",
        "type(a)"
      ],
      "execution_count": 3,
      "outputs": [
        {
          "output_type": "execute_result",
          "data": {
            "text/plain": [
              "tuple"
            ]
          },
          "metadata": {
            "tags": []
          },
          "execution_count": 3
        }
      ]
    },
    {
      "cell_type": "code",
      "metadata": {
        "id": "fo4QMUP4YfmV",
        "colab_type": "code",
        "colab": {
          "base_uri": "https://localhost:8080/",
          "height": 35
        },
        "outputId": "ee2644e8-d3c4-4aa3-d08f-b2522aa28887"
      },
      "source": [
        "a"
      ],
      "execution_count": 5,
      "outputs": [
        {
          "output_type": "execute_result",
          "data": {
            "text/plain": [
              "(1, 2)"
            ]
          },
          "metadata": {
            "tags": []
          },
          "execution_count": 5
        }
      ]
    },
    {
      "cell_type": "code",
      "metadata": {
        "id": "NmeM8qgORQeq",
        "colab_type": "code",
        "colab": {
          "base_uri": "https://localhost:8080/",
          "height": 35
        },
        "outputId": "d4b36c98-33cb-44b9-9831-6c5c62f92a02"
      },
      "source": [
        "class Config:\n",
        "  pass\n",
        "\n",
        "config = Config()\n",
        "config.optimizer = \"adam\"\n",
        "config.epochs = 30\n",
        "config.hidden_nodes = 30\n",
        "\n",
        "# load data\n",
        "(X_train, y_train), (X_test, y_test) = mnist.load_data()\n",
        "print(X_train.shape, y_train.shape)\n",
        "img_width = X_train.shape[1]\n",
        "img_height = X_train.shape[2]\n",
        "\n",
        "#X_train = X_train.astype('float32')\n",
        "#X_train /= 255.\n",
        "#X_test = X_test.astype('float32')\n",
        "#X_test /= 255.\n",
        "\n",
        "# Normalize, change learning rate, play with layer size, batchsize\n",
        "\n",
        "# one hot encode outputs\n",
        "y_train = np_utils.to_categorical(y_train)\n",
        "y_test = np_utils.to_categorical(y_test)\n",
        "labels = range(10)\n",
        "\n",
        "num_classes = y_train.shape[1]\n"
      ],
      "execution_count": 56,
      "outputs": [
        {
          "output_type": "stream",
          "text": [
            "(60000, 28, 28) (60000,)\n"
          ],
          "name": "stdout"
        }
      ]
    },
    {
      "cell_type": "code",
      "metadata": {
        "id": "PSGQdQF8Y9d1",
        "colab_type": "code",
        "colab": {
          "base_uri": "https://localhost:8080/",
          "height": 1000
        },
        "outputId": "d0beb9f0-fa77-4d84-9bc5-bd3bd9037178"
      },
      "source": [
        "X_train[0]"
      ],
      "execution_count": 57,
      "outputs": [
        {
          "output_type": "execute_result",
          "data": {
            "text/plain": [
              "array([[  0,   0,   0,   0,   0,   0,   0,   0,   0,   0,   0,   0,   0,\n",
              "          0,   0,   0,   0,   0,   0,   0,   0,   0,   0,   0,   0,   0,\n",
              "          0,   0],\n",
              "       [  0,   0,   0,   0,   0,   0,   0,   0,   0,   0,   0,   0,   0,\n",
              "          0,   0,   0,   0,   0,   0,   0,   0,   0,   0,   0,   0,   0,\n",
              "          0,   0],\n",
              "       [  0,   0,   0,   0,   0,   0,   0,   0,   0,   0,   0,   0,   0,\n",
              "          0,   0,   0,   0,   0,   0,   0,   0,   0,   0,   0,   0,   0,\n",
              "          0,   0],\n",
              "       [  0,   0,   0,   0,   0,   0,   0,   0,   0,   0,   0,   0,   0,\n",
              "          0,   0,   0,   0,   0,   0,   0,   0,   0,   0,   0,   0,   0,\n",
              "          0,   0],\n",
              "       [  0,   0,   0,   0,   0,   0,   0,   0,   0,   0,   0,   0,   0,\n",
              "          0,   0,   0,   0,   0,   0,   0,   0,   0,   0,   0,   0,   0,\n",
              "          0,   0],\n",
              "       [  0,   0,   0,   0,   0,   0,   0,   0,   0,   0,   0,   0,   3,\n",
              "         18,  18,  18, 126, 136, 175,  26, 166, 255, 247, 127,   0,   0,\n",
              "          0,   0],\n",
              "       [  0,   0,   0,   0,   0,   0,   0,   0,  30,  36,  94, 154, 170,\n",
              "        253, 253, 253, 253, 253, 225, 172, 253, 242, 195,  64,   0,   0,\n",
              "          0,   0],\n",
              "       [  0,   0,   0,   0,   0,   0,   0,  49, 238, 253, 253, 253, 253,\n",
              "        253, 253, 253, 253, 251,  93,  82,  82,  56,  39,   0,   0,   0,\n",
              "          0,   0],\n",
              "       [  0,   0,   0,   0,   0,   0,   0,  18, 219, 253, 253, 253, 253,\n",
              "        253, 198, 182, 247, 241,   0,   0,   0,   0,   0,   0,   0,   0,\n",
              "          0,   0],\n",
              "       [  0,   0,   0,   0,   0,   0,   0,   0,  80, 156, 107, 253, 253,\n",
              "        205,  11,   0,  43, 154,   0,   0,   0,   0,   0,   0,   0,   0,\n",
              "          0,   0],\n",
              "       [  0,   0,   0,   0,   0,   0,   0,   0,   0,  14,   1, 154, 253,\n",
              "         90,   0,   0,   0,   0,   0,   0,   0,   0,   0,   0,   0,   0,\n",
              "          0,   0],\n",
              "       [  0,   0,   0,   0,   0,   0,   0,   0,   0,   0,   0, 139, 253,\n",
              "        190,   2,   0,   0,   0,   0,   0,   0,   0,   0,   0,   0,   0,\n",
              "          0,   0],\n",
              "       [  0,   0,   0,   0,   0,   0,   0,   0,   0,   0,   0,  11, 190,\n",
              "        253,  70,   0,   0,   0,   0,   0,   0,   0,   0,   0,   0,   0,\n",
              "          0,   0],\n",
              "       [  0,   0,   0,   0,   0,   0,   0,   0,   0,   0,   0,   0,  35,\n",
              "        241, 225, 160, 108,   1,   0,   0,   0,   0,   0,   0,   0,   0,\n",
              "          0,   0],\n",
              "       [  0,   0,   0,   0,   0,   0,   0,   0,   0,   0,   0,   0,   0,\n",
              "         81, 240, 253, 253, 119,  25,   0,   0,   0,   0,   0,   0,   0,\n",
              "          0,   0],\n",
              "       [  0,   0,   0,   0,   0,   0,   0,   0,   0,   0,   0,   0,   0,\n",
              "          0,  45, 186, 253, 253, 150,  27,   0,   0,   0,   0,   0,   0,\n",
              "          0,   0],\n",
              "       [  0,   0,   0,   0,   0,   0,   0,   0,   0,   0,   0,   0,   0,\n",
              "          0,   0,  16,  93, 252, 253, 187,   0,   0,   0,   0,   0,   0,\n",
              "          0,   0],\n",
              "       [  0,   0,   0,   0,   0,   0,   0,   0,   0,   0,   0,   0,   0,\n",
              "          0,   0,   0,   0, 249, 253, 249,  64,   0,   0,   0,   0,   0,\n",
              "          0,   0],\n",
              "       [  0,   0,   0,   0,   0,   0,   0,   0,   0,   0,   0,   0,   0,\n",
              "          0,  46, 130, 183, 253, 253, 207,   2,   0,   0,   0,   0,   0,\n",
              "          0,   0],\n",
              "       [  0,   0,   0,   0,   0,   0,   0,   0,   0,   0,   0,   0,  39,\n",
              "        148, 229, 253, 253, 253, 250, 182,   0,   0,   0,   0,   0,   0,\n",
              "          0,   0],\n",
              "       [  0,   0,   0,   0,   0,   0,   0,   0,   0,   0,  24, 114, 221,\n",
              "        253, 253, 253, 253, 201,  78,   0,   0,   0,   0,   0,   0,   0,\n",
              "          0,   0],\n",
              "       [  0,   0,   0,   0,   0,   0,   0,   0,  23,  66, 213, 253, 253,\n",
              "        253, 253, 198,  81,   2,   0,   0,   0,   0,   0,   0,   0,   0,\n",
              "          0,   0],\n",
              "       [  0,   0,   0,   0,   0,   0,  18, 171, 219, 253, 253, 253, 253,\n",
              "        195,  80,   9,   0,   0,   0,   0,   0,   0,   0,   0,   0,   0,\n",
              "          0,   0],\n",
              "       [  0,   0,   0,   0,  55, 172, 226, 253, 253, 253, 253, 244, 133,\n",
              "         11,   0,   0,   0,   0,   0,   0,   0,   0,   0,   0,   0,   0,\n",
              "          0,   0],\n",
              "       [  0,   0,   0,   0, 136, 253, 253, 253, 212, 135, 132,  16,   0,\n",
              "          0,   0,   0,   0,   0,   0,   0,   0,   0,   0,   0,   0,   0,\n",
              "          0,   0],\n",
              "       [  0,   0,   0,   0,   0,   0,   0,   0,   0,   0,   0,   0,   0,\n",
              "          0,   0,   0,   0,   0,   0,   0,   0,   0,   0,   0,   0,   0,\n",
              "          0,   0],\n",
              "       [  0,   0,   0,   0,   0,   0,   0,   0,   0,   0,   0,   0,   0,\n",
              "          0,   0,   0,   0,   0,   0,   0,   0,   0,   0,   0,   0,   0,\n",
              "          0,   0],\n",
              "       [  0,   0,   0,   0,   0,   0,   0,   0,   0,   0,   0,   0,   0,\n",
              "          0,   0,   0,   0,   0,   0,   0,   0,   0,   0,   0,   0,   0,\n",
              "          0,   0]], dtype=uint8)"
            ]
          },
          "metadata": {
            "tags": []
          },
          "execution_count": 57
        }
      ]
    },
    {
      "cell_type": "code",
      "metadata": {
        "id": "3CxPmRQAYdl8",
        "colab_type": "code",
        "colab": {}
      },
      "source": [
        ""
      ],
      "execution_count": 0,
      "outputs": []
    },
    {
      "cell_type": "code",
      "metadata": {
        "id": "QEWkIgEqRX1z",
        "colab_type": "code",
        "colab": {
          "base_uri": "https://localhost:8080/",
          "height": 301
        },
        "outputId": "860738cb-15a7-42a4-d0f2-53094c9307d0"
      },
      "source": [
        "# create model\n",
        "model = Sequential()\n",
        "model.add(Flatten(input_shape=(img_width, img_height)))\n",
        "model.add(Dense(config.hidden_nodes, activation='relu'))\n",
        "model.add(Dense(config.hidden_nodes, activation='relu'))\n",
        "model.add(Dense(num_classes, activation='softmax'))\n",
        "model.compile(loss='categorical_crossentropy', optimizer=config.optimizer,\n",
        "              metrics=['accuracy'])\n",
        "model.summary()"
      ],
      "execution_count": 58,
      "outputs": [
        {
          "output_type": "stream",
          "text": [
            "Model: \"sequential_2\"\n",
            "_________________________________________________________________\n",
            "Layer (type)                 Output Shape              Param #   \n",
            "=================================================================\n",
            "flatten_2 (Flatten)          (None, 784)               0         \n",
            "_________________________________________________________________\n",
            "dense_4 (Dense)              (None, 30)                23550     \n",
            "_________________________________________________________________\n",
            "dense_5 (Dense)              (None, 30)                930       \n",
            "_________________________________________________________________\n",
            "dense_6 (Dense)              (None, 10)                310       \n",
            "=================================================================\n",
            "Total params: 24,790\n",
            "Trainable params: 24,790\n",
            "Non-trainable params: 0\n",
            "_________________________________________________________________\n"
          ],
          "name": "stdout"
        }
      ]
    },
    {
      "cell_type": "code",
      "metadata": {
        "id": "j9b8tVHiRYw3",
        "colab_type": "code",
        "colab": {
          "base_uri": "https://localhost:8080/",
          "height": 1000
        },
        "outputId": "2c9508f5-2033-4765-b021-a49ce9cd4148"
      },
      "source": [
        "# Fit the model\n",
        "history=model.fit(X_train, y_train, validation_data=(X_test, y_test),\n",
        "          epochs=config.epochs)"
      ],
      "execution_count": 59,
      "outputs": [
        {
          "output_type": "stream",
          "text": [
            "Train on 60000 samples, validate on 10000 samples\n",
            "Epoch 1/30\n",
            "60000/60000 [==============================] - 10s 174us/step - loss: 6.4872 - acc: 0.5880 - val_loss: 5.8920 - val_acc: 0.6301\n",
            "Epoch 2/30\n",
            "60000/60000 [==============================] - 10s 167us/step - loss: 5.8191 - acc: 0.6354 - val_loss: 5.7564 - val_acc: 0.6400\n",
            "Epoch 3/30\n",
            "60000/60000 [==============================] - 10s 168us/step - loss: 5.8142 - acc: 0.6366 - val_loss: 6.1574 - val_acc: 0.6150\n",
            "Epoch 4/30\n",
            "60000/60000 [==============================] - 10s 169us/step - loss: 5.4704 - acc: 0.6579 - val_loss: 4.9520 - val_acc: 0.6900\n",
            "Epoch 5/30\n",
            "60000/60000 [==============================] - 10s 169us/step - loss: 4.6645 - acc: 0.7074 - val_loss: 4.5267 - val_acc: 0.7166\n",
            "Epoch 6/30\n",
            "60000/60000 [==============================] - 10s 166us/step - loss: 4.5160 - acc: 0.7177 - val_loss: 4.5303 - val_acc: 0.7172\n",
            "Epoch 7/30\n",
            "60000/60000 [==============================] - 10s 168us/step - loss: 4.4960 - acc: 0.7190 - val_loss: 4.4645 - val_acc: 0.7205\n",
            "Epoch 8/30\n",
            "60000/60000 [==============================] - 10s 167us/step - loss: 4.4827 - acc: 0.7203 - val_loss: 6.0637 - val_acc: 0.6206\n",
            "Epoch 9/30\n",
            "60000/60000 [==============================] - 10s 168us/step - loss: 4.4671 - acc: 0.7214 - val_loss: 4.5132 - val_acc: 0.7185\n",
            "Epoch 10/30\n",
            "60000/60000 [==============================] - 10s 169us/step - loss: 4.4236 - acc: 0.7241 - val_loss: 4.3492 - val_acc: 0.7287\n",
            "Epoch 11/30\n",
            "60000/60000 [==============================] - 10s 168us/step - loss: 4.3642 - acc: 0.7279 - val_loss: 4.5097 - val_acc: 0.7190\n",
            "Epoch 12/30\n",
            "60000/60000 [==============================] - 10s 169us/step - loss: 4.4499 - acc: 0.7228 - val_loss: 4.3873 - val_acc: 0.7272\n",
            "Epoch 13/30\n",
            "60000/60000 [==============================] - 10s 168us/step - loss: 4.4115 - acc: 0.7253 - val_loss: 4.4879 - val_acc: 0.7205\n",
            "Epoch 14/30\n",
            "60000/60000 [==============================] - 10s 166us/step - loss: 4.4752 - acc: 0.7213 - val_loss: 4.9632 - val_acc: 0.6908\n",
            "Epoch 15/30\n",
            "60000/60000 [==============================] - 10s 168us/step - loss: 4.3237 - acc: 0.7309 - val_loss: 4.3981 - val_acc: 0.7263\n",
            "Epoch 16/30\n",
            "60000/60000 [==============================] - 10s 166us/step - loss: 4.3587 - acc: 0.7288 - val_loss: 4.5001 - val_acc: 0.7199\n",
            "Epoch 17/30\n",
            "60000/60000 [==============================] - 10s 170us/step - loss: 4.4090 - acc: 0.7255 - val_loss: 4.4116 - val_acc: 0.7251\n",
            "Epoch 18/30\n",
            "60000/60000 [==============================] - 10s 169us/step - loss: 4.4612 - acc: 0.7225 - val_loss: 4.4902 - val_acc: 0.7206\n",
            "Epoch 19/30\n",
            "60000/60000 [==============================] - 10s 169us/step - loss: 4.3779 - acc: 0.7277 - val_loss: 4.2558 - val_acc: 0.7352\n",
            "Epoch 20/30\n",
            "60000/60000 [==============================] - 10s 169us/step - loss: 4.3116 - acc: 0.7319 - val_loss: 4.8006 - val_acc: 0.7012\n",
            "Epoch 21/30\n",
            "60000/60000 [==============================] - 10s 166us/step - loss: 4.3275 - acc: 0.7309 - val_loss: 4.7376 - val_acc: 0.7052\n",
            "Epoch 22/30\n",
            "60000/60000 [==============================] - 10s 167us/step - loss: 4.3492 - acc: 0.7297 - val_loss: 4.4677 - val_acc: 0.7224\n",
            "Epoch 23/30\n",
            "60000/60000 [==============================] - 10s 167us/step - loss: 4.3502 - acc: 0.7296 - val_loss: 4.3460 - val_acc: 0.7296\n",
            "Epoch 24/30\n",
            "60000/60000 [==============================] - 10s 173us/step - loss: 4.2999 - acc: 0.7327 - val_loss: 4.2991 - val_acc: 0.7327\n",
            "Epoch 25/30\n",
            "60000/60000 [==============================] - 10s 168us/step - loss: 4.3458 - acc: 0.7299 - val_loss: 4.2517 - val_acc: 0.7356\n",
            "Epoch 26/30\n",
            "60000/60000 [==============================] - 10s 165us/step - loss: 4.3671 - acc: 0.7285 - val_loss: 4.2762 - val_acc: 0.7341\n",
            "Epoch 27/30\n",
            "60000/60000 [==============================] - 10s 164us/step - loss: 4.2582 - acc: 0.7353 - val_loss: 4.3435 - val_acc: 0.7302\n",
            "Epoch 28/30\n",
            "60000/60000 [==============================] - 10s 168us/step - loss: 4.2592 - acc: 0.7352 - val_loss: 4.2479 - val_acc: 0.7357\n",
            "Epoch 29/30\n",
            "60000/60000 [==============================] - 10s 167us/step - loss: 4.2752 - acc: 0.7342 - val_loss: 4.4103 - val_acc: 0.7260\n",
            "Epoch 30/30\n",
            "60000/60000 [==============================] - 10s 168us/step - loss: 4.3118 - acc: 0.7320 - val_loss: 4.4718 - val_acc: 0.7219\n"
          ],
          "name": "stdout"
        }
      ]
    },
    {
      "cell_type": "code",
      "metadata": {
        "id": "qx0bPtn4x90v",
        "colab_type": "code",
        "colab": {
          "base_uri": "https://localhost:8080/",
          "height": 1000
        },
        "outputId": "e12768d3-0c48-4378-bba3-0ea231c83256"
      },
      "source": [
        "dir()"
      ],
      "execution_count": 60,
      "outputs": [
        {
          "output_type": "execute_result",
          "data": {
            "text/plain": [
              "['Callback',\n",
              " 'Config',\n",
              " 'Dense',\n",
              " 'Dropout',\n",
              " 'Flatten',\n",
              " 'In',\n",
              " 'Out',\n",
              " 'Sequential',\n",
              " 'X_test',\n",
              " 'X_train',\n",
              " '_',\n",
              " '_1',\n",
              " '_11',\n",
              " '_21',\n",
              " '_24',\n",
              " '_25',\n",
              " '_28',\n",
              " '_30',\n",
              " '_32',\n",
              " '_42',\n",
              " '_45',\n",
              " '_46',\n",
              " '_49',\n",
              " '_50',\n",
              " '_51',\n",
              " '_52',\n",
              " '_53',\n",
              " '_57',\n",
              " '__',\n",
              " '___',\n",
              " '__builtin__',\n",
              " '__builtins__',\n",
              " '__doc__',\n",
              " '__loader__',\n",
              " '__name__',\n",
              " '__package__',\n",
              " '__spec__',\n",
              " '_dh',\n",
              " '_i',\n",
              " '_i1',\n",
              " '_i10',\n",
              " '_i11',\n",
              " '_i12',\n",
              " '_i13',\n",
              " '_i14',\n",
              " '_i15',\n",
              " '_i16',\n",
              " '_i17',\n",
              " '_i18',\n",
              " '_i19',\n",
              " '_i2',\n",
              " '_i20',\n",
              " '_i21',\n",
              " '_i22',\n",
              " '_i23',\n",
              " '_i24',\n",
              " '_i25',\n",
              " '_i26',\n",
              " '_i27',\n",
              " '_i28',\n",
              " '_i29',\n",
              " '_i3',\n",
              " '_i30',\n",
              " '_i31',\n",
              " '_i32',\n",
              " '_i33',\n",
              " '_i34',\n",
              " '_i35',\n",
              " '_i36',\n",
              " '_i37',\n",
              " '_i38',\n",
              " '_i39',\n",
              " '_i4',\n",
              " '_i40',\n",
              " '_i41',\n",
              " '_i42',\n",
              " '_i43',\n",
              " '_i44',\n",
              " '_i45',\n",
              " '_i46',\n",
              " '_i47',\n",
              " '_i48',\n",
              " '_i49',\n",
              " '_i5',\n",
              " '_i50',\n",
              " '_i51',\n",
              " '_i52',\n",
              " '_i53',\n",
              " '_i54',\n",
              " '_i55',\n",
              " '_i56',\n",
              " '_i57',\n",
              " '_i58',\n",
              " '_i59',\n",
              " '_i6',\n",
              " '_i60',\n",
              " '_i7',\n",
              " '_i8',\n",
              " '_i9',\n",
              " '_ih',\n",
              " '_ii',\n",
              " '_iii',\n",
              " '_oh',\n",
              " '_sh',\n",
              " 'config',\n",
              " 'epochs',\n",
              " 'exit',\n",
              " 'get_ipython',\n",
              " 'history',\n",
              " 'img_height',\n",
              " 'img_width',\n",
              " 'json',\n",
              " 'labels',\n",
              " 'mnist',\n",
              " 'model',\n",
              " 'np',\n",
              " 'np_utils',\n",
              " 'num_classes',\n",
              " 'plt',\n",
              " 'quit',\n",
              " 'y_test',\n",
              " 'y_train']"
            ]
          },
          "metadata": {
            "tags": []
          },
          "execution_count": 60
        }
      ]
    },
    {
      "cell_type": "code",
      "metadata": {
        "id": "XzV87MpJ-ju8",
        "colab_type": "code",
        "colab": {
          "base_uri": "https://localhost:8080/",
          "height": 35
        },
        "outputId": "f78f2700-bc4e-46b7-a1bf-93622f8ee606"
      },
      "source": [
        "_30"
      ],
      "execution_count": 50,
      "outputs": [
        {
          "output_type": "execute_result",
          "data": {
            "text/plain": [
              "[<matplotlib.lines.Line2D at 0x7f8ff0e1ae48>]"
            ]
          },
          "metadata": {
            "tags": []
          },
          "execution_count": 50
        }
      ]
    },
    {
      "cell_type": "code",
      "metadata": {
        "id": "8TGNlTVj_kBG",
        "colab_type": "code",
        "colab": {
          "base_uri": "https://localhost:8080/",
          "height": 1000
        },
        "outputId": "d077ad18-dbec-4567-d836-c2b5e273a32f"
      },
      "source": [
        "history.history"
      ],
      "execution_count": 62,
      "outputs": [
        {
          "output_type": "execute_result",
          "data": {
            "text/plain": [
              "{'acc': [0.58795,\n",
              "  0.6353666666666666,\n",
              "  0.6365833333333333,\n",
              "  0.6578833333333334,\n",
              "  0.7074166666666667,\n",
              "  0.7177166666666667,\n",
              "  0.7190333333333333,\n",
              "  0.7202833333333334,\n",
              "  0.7214166666666667,\n",
              "  0.7241333333333333,\n",
              "  0.7278666666666667,\n",
              "  0.7227666666666667,\n",
              "  0.7252833333333333,\n",
              "  0.7213166666666667,\n",
              "  0.7308833333333333,\n",
              "  0.72885,\n",
              "  0.7255,\n",
              "  0.72245,\n",
              "  0.7276666666666667,\n",
              "  0.7319166666666667,\n",
              "  0.73095,\n",
              "  0.7296666666666667,\n",
              "  0.72955,\n",
              "  0.7327166666666667,\n",
              "  0.7298666666666667,\n",
              "  0.7284666666666667,\n",
              "  0.7353166666666666,\n",
              "  0.7352166666666666,\n",
              "  0.73425,\n",
              "  0.7319833333333333],\n",
              " 'loss': [6.487231207529704,\n",
              "  5.819114147694906,\n",
              "  5.814152224286397,\n",
              "  5.470351993179321,\n",
              "  4.66452363503774,\n",
              "  4.515979108111064,\n",
              "  4.49602734934489,\n",
              "  4.482740637397766,\n",
              "  4.467107509676615,\n",
              "  4.423649283599853,\n",
              "  4.364200576912366,\n",
              "  4.4499074641545615,\n",
              "  4.411519588534038,\n",
              "  4.475183125241598,\n",
              "  4.323747485669454,\n",
              "  4.358712992095947,\n",
              "  4.408993679237366,\n",
              "  4.461168797938029,\n",
              "  4.377872891553243,\n",
              "  4.3115633069356285,\n",
              "  4.327533362642924,\n",
              "  4.349156363360087,\n",
              "  4.35017976620992,\n",
              "  4.299884315745036,\n",
              "  4.345762552197774,\n",
              "  4.367054983711243,\n",
              "  4.258170212173462,\n",
              "  4.25921444975535,\n",
              "  4.275178248977661,\n",
              "  4.311833749516805],\n",
              " 'val_acc': [0.6301,\n",
              "  0.64,\n",
              "  0.615,\n",
              "  0.69,\n",
              "  0.7166,\n",
              "  0.7172,\n",
              "  0.7205,\n",
              "  0.6206,\n",
              "  0.7185,\n",
              "  0.7287,\n",
              "  0.719,\n",
              "  0.7272,\n",
              "  0.7205,\n",
              "  0.6908,\n",
              "  0.7263,\n",
              "  0.7199,\n",
              "  0.7251,\n",
              "  0.7206,\n",
              "  0.7352,\n",
              "  0.7012,\n",
              "  0.7052,\n",
              "  0.7224,\n",
              "  0.7296,\n",
              "  0.7327,\n",
              "  0.7356,\n",
              "  0.7341,\n",
              "  0.7302,\n",
              "  0.7357,\n",
              "  0.726,\n",
              "  0.7219],\n",
              " 'val_loss': [5.892016825866699,\n",
              "  5.75636264038086,\n",
              "  6.1573794593811035,\n",
              "  4.952013530731201,\n",
              "  4.526701174926758,\n",
              "  4.530274465942383,\n",
              "  4.464475863647461,\n",
              "  6.0636566116333,\n",
              "  4.513194773864746,\n",
              "  4.3491647289276125,\n",
              "  4.509723783493042,\n",
              "  4.387299691772461,\n",
              "  4.487945403671264,\n",
              "  4.963189741516113,\n",
              "  4.398058393096924,\n",
              "  4.5000816696167,\n",
              "  4.411579912185669,\n",
              "  4.490221857452393,\n",
              "  4.255768112182617,\n",
              "  4.80060985031128,\n",
              "  4.7376045307159425,\n",
              "  4.467731544494629,\n",
              "  4.345950616073608,\n",
              "  4.29911044883728,\n",
              "  4.251670912933349,\n",
              "  4.276211419677734,\n",
              "  4.343459148025513,\n",
              "  4.247894894790649,\n",
              "  4.410255737686157,\n",
              "  4.4718485317230225]}"
            ]
          },
          "metadata": {
            "tags": []
          },
          "execution_count": 62
        }
      ]
    },
    {
      "cell_type": "code",
      "metadata": {
        "id": "YV6bn_wO4_Eg",
        "colab_type": "code",
        "colab": {
          "base_uri": "https://localhost:8080/",
          "height": 550
        },
        "outputId": "37358809-144a-448a-df3f-443166b3c14b"
      },
      "source": [
        "history.epoch"
      ],
      "execution_count": 63,
      "outputs": [
        {
          "output_type": "execute_result",
          "data": {
            "text/plain": [
              "[0,\n",
              " 1,\n",
              " 2,\n",
              " 3,\n",
              " 4,\n",
              " 5,\n",
              " 6,\n",
              " 7,\n",
              " 8,\n",
              " 9,\n",
              " 10,\n",
              " 11,\n",
              " 12,\n",
              " 13,\n",
              " 14,\n",
              " 15,\n",
              " 16,\n",
              " 17,\n",
              " 18,\n",
              " 19,\n",
              " 20,\n",
              " 21,\n",
              " 22,\n",
              " 23,\n",
              " 24,\n",
              " 25,\n",
              " 26,\n",
              " 27,\n",
              " 28,\n",
              " 29]"
            ]
          },
          "metadata": {
            "tags": []
          },
          "execution_count": 63
        }
      ]
    },
    {
      "cell_type": "code",
      "metadata": {
        "id": "LJ0ynH5v5ICY",
        "colab_type": "code",
        "colab": {}
      },
      "source": [
        "epochs=history.epoch"
      ],
      "execution_count": 0,
      "outputs": []
    },
    {
      "cell_type": "code",
      "metadata": {
        "id": "BF6SKMmH5QBD",
        "colab_type": "code",
        "colab": {
          "base_uri": "https://localhost:8080/",
          "height": 35
        },
        "outputId": "419e205a-43f5-4669-a25f-1ecd46ced117"
      },
      "source": [
        "type(history.history)"
      ],
      "execution_count": 65,
      "outputs": [
        {
          "output_type": "execute_result",
          "data": {
            "text/plain": [
              "dict"
            ]
          },
          "metadata": {
            "tags": []
          },
          "execution_count": 65
        }
      ]
    },
    {
      "cell_type": "code",
      "metadata": {
        "id": "xqFzOeqX5Zk9",
        "colab_type": "code",
        "colab": {}
      },
      "source": [
        "import matplotlib.pyplot as plt"
      ],
      "execution_count": 0,
      "outputs": []
    },
    {
      "cell_type": "code",
      "metadata": {
        "id": "xBZuPbPT5m38",
        "colab_type": "code",
        "colab": {
          "base_uri": "https://localhost:8080/",
          "height": 287
        },
        "outputId": "a32ed606-222d-4eac-e8c0-ddc2e9a5fc9d"
      },
      "source": [
        "plt.plot(history.epoch,history.history['acc'])"
      ],
      "execution_count": 67,
      "outputs": [
        {
          "output_type": "execute_result",
          "data": {
            "text/plain": [
              "[<matplotlib.lines.Line2D at 0x7f8ff00f5fd0>]"
            ]
          },
          "metadata": {
            "tags": []
          },
          "execution_count": 67
        },
        {
          "output_type": "display_data",
          "data": {
            "image/png": "[encoded data removed]",
            "text/plain": [
              "<Figure size 432x288 with 1 Axes>"
            ]
          },
          "metadata": {
            "tags": []
          }
        }
      ]
    }
  ]
}